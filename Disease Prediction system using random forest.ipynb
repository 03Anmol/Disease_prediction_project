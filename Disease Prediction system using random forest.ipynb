{
 "cells": [
  {
   "cell_type": "code",
   "execution_count": null,
   "id": "4c369841",
   "metadata": {},
   "outputs": [],
   "source": [
    "import pandas as pd\n",
    "import matplotlib.pyplot as plt\n",
    "import numpy as np\n",
    "import scipy as sc\n",
    "import seaborn as sns\n",
    "dataset = pd.read_csv('Symptom-severity.csv')\n",
    "symptom = pd.read_csv('symptom_Description.csv')\n",
    "precaution = pd.read_csv('symptom_Description.csvsymptom_precaution.csv')\n",
    "dataset.head()"
   ]
  },
  {
   "cell_type": "code",
   "execution_count": null,
   "id": "0971224e",
   "metadata": {},
   "outputs": [],
   "source": [
    "symptom.head()"
   ]
  },
  {
   "cell_type": "code",
   "execution_count": null,
   "id": "acb5dd09",
   "metadata": {},
   "outputs": [],
   "source": [
    "precaution.head()"
   ]
  },
  {
   "cell_type": "code",
   "execution_count": null,
   "id": "d4418b79",
   "metadata": {},
   "outputs": [],
   "source": [
    "dataset.isnull().sum()"
   ]
  },
  {
   "cell_type": "code",
   "execution_count": null,
   "id": "ca58e162",
   "metadata": {},
   "outputs": [],
   "source": [
    "symptom.isnull().sum()"
   ]
  },
  {
   "cell_type": "code",
   "execution_count": null,
   "id": "fb8e22c0",
   "metadata": {},
   "outputs": [],
   "source": [
    "precaution.isnull().sum()"
   ]
  },
  {
   "cell_type": "code",
   "execution_count": null,
   "id": "feccbfbf",
   "metadata": {},
   "outputs": [],
   "source": [
    "dataset.shape"
   ]
  },
  {
   "cell_type": "code",
   "execution_count": null,
   "id": "8484d6b1",
   "metadata": {},
   "outputs": [],
   "source": [
    "symptom.shape"
   ]
  },
  {
   "cell_type": "code",
   "execution_count": null,
   "id": "a7f6f981",
   "metadata": {},
   "outputs": [],
   "source": [
    "precaution.shape"
   ]
  },
  {
   "cell_type": "code",
   "execution_count": null,
   "id": "1003ec3d",
   "metadata": {},
   "outputs": [],
   "source": [
    "dataset.duplicated().sum()"
   ]
  },
  {
   "cell_type": "code",
   "execution_count": null,
   "id": "09756141",
   "metadata": {},
   "outputs": [],
   "source": [
    "symptom.duplicated().sum()"
   ]
  },
  {
   "cell_type": "code",
   "execution_count": null,
   "id": "5ba42334",
   "metadata": {},
   "outputs": [],
   "source": [
    "precaution.duplicated().sum()"
   ]
  },
  {
   "cell_type": "code",
   "execution_count": null,
   "id": "aa2c9e80",
   "metadata": {},
   "outputs": [],
   "source": [
    "dataset.describe()"
   ]
  },
  {
   "cell_type": "code",
   "execution_count": null,
   "id": "9bc70d5f",
   "metadata": {},
   "outputs": [],
   "source": [
    "symptom.describe()"
   ]
  },
  {
   "cell_type": "code",
   "execution_count": null,
   "id": "f01b6654",
   "metadata": {},
   "outputs": [],
   "source": [
    "precaution.describe()"
   ]
  },
  {
   "cell_type": "code",
   "execution_count": null,
   "id": "32134fd6",
   "metadata": {},
   "outputs": [],
   "source": [
    "from sklearn.model_selection import train_test_split\n",
    "from sklearn.metrics import f1_score, accuracy_score, confusion_matrix ,classification_report\n",
    "from sklearn.ensemble import RandomForestClassifier"
   ]
  },
  {
   "cell_type": "code",
   "execution_count": null,
   "id": "03219e44",
   "metadata": {},
   "outputs": [],
   "source": [
    "for ind in precaution.index:\n",
    "    continue"
   ]
  },
  {
   "cell_type": "code",
   "execution_count": null,
   "id": "5b97dd6f",
   "metadata": {},
   "outputs": [],
   "source": [
    "data_dict = precaution.set_index('Description ').T.to_dict()"
   ]
  },
  {
   "cell_type": "code",
   "execution_count": null,
   "id": "30b37921",
   "metadata": {},
   "outputs": [],
   "source": [
    "def remove_space_between_word(dataset):\n",
    "    for col in dataset.columns:\n",
    "        for i in range(len(dataset[col])):\n",
    "            if (type(dataset[col][i]) == str ):\n",
    "                dataset[col][i] = dataset[col][i].strip()\n",
    "                dataset[col][i] = dataset[col][i].replace(\" \", \"_\")\n",
    "    return dataset"
   ]
  },
  {
   "cell_type": "code",
   "execution_count": null,
   "id": "03dc0955",
   "metadata": {},
   "outputs": [],
   "source": [
    "new_df = remove_space_between_word(symptom)\n",
    "new_df.head()"
   ]
  },
  {
   "cell_type": "code",
   "execution_count": null,
   "id": "2117d19b",
   "metadata": {},
   "outputs": [],
   "source": [
    "def enc(data):\n",
    "    for ind in precaution.index:\n",
    "        data = dataset.replace(precaution[\"Symptom\"][ind] , precaution[\"weight\"][ind])\n",
    "    data = dataset.fillna(0) # put empty cell to 0\n",
    "    data = dataset.replace(\"foul_smell_of_urine\" , 5)\n",
    "    data = dataset.replace(\"dischromic__patches\" , 6)\n",
    "    data = dataset.replace(\"spotting__urination\" , 6)\n",
    "    return data"
   ]
  },
  {
   "cell_type": "code",
   "execution_count": null,
   "id": "5ab60fc3",
   "metadata": {},
   "outputs": [],
   "source": [
    "dataset.dtypes"
   ]
  },
  {
   "cell_type": "code",
   "execution_count": null,
   "id": "4c9a050d",
   "metadata": {},
   "outputs": [],
   "source": [
    "def encode(data , data_weigth):\n",
    "    cols = data.columns\n",
    "    for columnName in cols:\n",
    "        for i in range(len(data[columnName])):\n",
    "            try:\n",
    "            #print(data_dict[data2[columnName][i]][\"weight\"])\n",
    "                data[columnName][i] = data_dict[data[columnName][i]][\"weight\"]\n",
    "            except:\n",
    "                pass\n",
    "    data = data.fillna(0) # put empty cell to 0\n",
    "    data = data.replace(\"foul_smell_of_urine\" , 5)\n",
    "    data = data.replace(\"dischromic__patches\" , 6)\n",
    "    data = data.replace(\"spotting__urination\" , 6)\n",
    "    return data"
   ]
  },
  {
   "cell_type": "code",
   "execution_count": null,
   "id": "9e939c2b",
   "metadata": {},
   "outputs": [],
   "source": [
    "df = encode(new_df , data_dict)\n",
    "df.head()"
   ]
  },
  {
   "cell_type": "code",
   "execution_count": null,
   "id": "24af18f6",
   "metadata": {},
   "outputs": [],
   "source": [
    "names = []\n",
    "for col in df.columns:\n",
    "    if(col != \"Disease\"):\n",
    "        for i in range(len(df[col])):\n",
    "            if (type(df[col][i]) == str ):\n",
    "                if df[col][i] not in names :\n",
    "                    names.append(df[col][i])\n",
    "                    \n",
    "print(\" no replace are :\" , names)  "
   ]
  },
  {
   "cell_type": "code",
   "execution_count": null,
   "id": "1bfb4db0",
   "metadata": {},
   "outputs": [],
   "source": [
    "df_data = df.drop('Disease' , axis =1)\n",
    "label = dataset[\"Disease\"]"
   ]
  },
  {
   "cell_type": "code",
   "execution_count": null,
   "id": "83a2f3aa",
   "metadata": {},
   "outputs": [],
   "source": [
    "x_train, x_test, y_train, y_test = train_test_split(dataset, label, shuffle=True, train_size = 0.70)\n",
    "randomFC = RandomForestClassifier()\n",
    "randomFC.fit(x_train, y_train)\n",
    "result = randomFC.predict(x_test)\n",
    "print(randomFC)\n",
    "print(classification_report(y_true=y_test, y_pred=result))\n",
    "print('F1-score% =', f1_score(y_test, result, average='macro')*100, '|', 'Accuracy% =', accuracy_score(y_test, result)*100)"
   ]
  },
  {
   "cell_type": "code",
   "execution_count": null,
   "id": "06646640",
   "metadata": {},
   "outputs": [],
   "source": [
    "qw=pd.DataFrame([[1,2,3,4,5,6,1,2,3,4,5,6,1,2,3,4,5]],columns=['Symptom_1', 'Symptom_2', 'Symptom_3', 'Symptom_4', 'Symptom_5',\n",
    "       'Symptom_6', 'Symptom_7', 'Symptom_8', 'Symptom_9', 'Symptom_10',\n",
    "       'Symptom_11', 'Symptom_12', 'Symptom_13', 'Symptom_14', 'Symptom_15',\n",
    "       'Symptom_16', 'Symptom_17'])"
   ]
  },
  {
   "cell_type": "code",
   "execution_count": null,
   "id": "676ec508",
   "metadata": {},
   "outputs": [],
   "source": [
    "x_train.columns"
   ]
  },
  {
   "cell_type": "code",
   "execution_count": null,
   "id": "6eeb97a0",
   "metadata": {},
   "outputs": [],
   "source": [
    "output = randomFC.predict(Description)"
   ]
  },
  {
   "cell_type": "code",
   "execution_count": null,
   "id": "8573b1c2",
   "metadata": {},
   "outputs": [],
   "source": [
    "import pickle"
   ]
  },
  {
   "cell_type": "code",
   "execution_count": null,
   "id": "d2877071",
   "metadata": {},
   "outputs": [],
   "source": [
    "filename='model.pkl'\n",
    "pickle.dump(randomFC,open(filename,'wb'))"
   ]
  },
  {
   "cell_type": "code",
   "execution_count": null,
   "id": "5e5d8240",
   "metadata": {},
   "outputs": [],
   "source": [
    "filename='model.pkl'\n",
    "pickle.dump(randomFC,open(filename,'wb'))"
   ]
  }
 ],
 "metadata": {
  "kernelspec": {
   "display_name": "Python 3 (ipykernel)",
   "language": "python",
   "name": "python3"
  },
  "language_info": {
   "codemirror_mode": {
    "name": "ipython",
    "version": 3
   },
   "file_extension": ".py",
   "mimetype": "text/x-python",
   "name": "python",
   "nbconvert_exporter": "python",
   "pygments_lexer": "ipython3",
   "version": "3.10.4"
  }
 },
 "nbformat": 4,
 "nbformat_minor": 5
}
